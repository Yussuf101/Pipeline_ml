{
 "cells": [
  {
   "cell_type": "markdown",
   "metadata": {},
   "source": [
    "## Importing the libraries"
   ]
  },
  {
   "cell_type": "code",
   "execution_count": 1,
   "metadata": {},
   "outputs": [],
   "source": [
    "import pandas as pd\n",
    "import numpy as np\n",
    "import matplotlib.pyplot as plt\n",
    "from sklearn.preprocessing import LabelEncoder, Imputer\n",
    "from sklearn.base import BaseEstimator, TransformerMixin\n",
    "from sklearn.linear_model import LinearRegression\n",
    "from sklearn.pipeline import Pipeline\n",
    "from sklearn.model_selection import train_test_split"
   ]
  },
  {
   "cell_type": "markdown",
   "metadata": {},
   "source": [
    "## Old Feature"
   ]
  },
  {
   "cell_type": "code",
   "execution_count": 2,
   "metadata": {},
   "outputs": [],
   "source": [
    "class OldFeature(BaseEstimator, TransformerMixin):\n",
    "    \"\"\"Creates the old feature which is the difference between acquisition data and year\"\"\"\n",
    "    \n",
    "    def fit(self, X:pd.DataFrame, y:pd.Series = None) -> 'OldFeature':\n",
    "        \"\"\"Fit statement to accomodate the sklearn pipeline.\"\"\"\n",
    "        \n",
    "        return self\n",
    "    \n",
    "    def transform(self, X:pd.DataFrame) -> pd.DataFrame:\n",
    "        \"\"\"Apply the transforms to the dataframe.\"\"\"\n",
    "        \n",
    "        X = X.copy()\n",
    "        X['acquisition_date'] = pd.to_datetime(X['acquisition_date']) # this converts the acquisition_date from string to datetime\n",
    "        X.last_updated = pd.to_datetime(X.last_updated)\n",
    "        \n",
    "        X['old'] = X.acquisition_date.dt.year - X.year\n",
    "        \n",
    "        return X"
   ]
  },
  {
   "cell_type": "markdown",
   "metadata": {},
   "source": [
    "## Categorical Imputer"
   ]
  },
  {
   "cell_type": "code",
   "execution_count": 3,
   "metadata": {},
   "outputs": [],
   "source": [
    "class CategoricalImputer(BaseEstimator, TransformerMixin):\n",
    "    \"\"\"Categorical data missing value imputer.\"\"\"\n",
    "    \n",
    "    def __init__(self, variables=None)-> None:\n",
    "        if not isinstance(variables, list):\n",
    "            self.variables = [variables]\n",
    "        else:\n",
    "            self.variables = variables\n",
    "    \n",
    "    def fit(self, X:pd.DataFrame, y:pd.Series = None) -> 'CategoricalImputer': # this mean we want to return categorical imputer\n",
    "        \"\"\"Fit statement to accomodate the sklearn pipeline.\"\"\"\n",
    "        \n",
    "        return self\n",
    "    \n",
    "    def transform(self, X:pd.DataFrame) -> pd.DataFrame:\n",
    "        \"\"\"Apply the transforms to the dataframe.\"\"\"\n",
    "        \n",
    "        X = X.copy()\n",
    "        for feature in self.variables:\n",
    "            X[feature] = X[feature].fillna('Missing')\n",
    "            \n",
    "        return X"
   ]
  },
  {
   "cell_type": "markdown",
   "metadata": {},
   "source": [
    "## Numerical Imputer"
   ]
  },
  {
   "cell_type": "code",
   "execution_count": 4,
   "metadata": {},
   "outputs": [],
   "source": [
    "class NumericalImputer(BaseEstimator, TransformerMixin):\n",
    "    \"\"\"Numerical missing value imputer.\"\"\"\n",
    "    \n",
    "    def __init__(self, variables = None) -> None:\n",
    "        if not isinstance(variables, list):\n",
    "            self.variables = [variables]\n",
    "        else:\n",
    "            self.variables = variables\n",
    "        \n",
    "    def fit(self, X:pd.DataFrame, y:pd.Series = None) -> 'NumericalImputer':\n",
    "        # persist the mean in a dictionary\n",
    "        self.imputer_dict = {}\n",
    "        for feature in self.variables:\n",
    "            self.imputer_dict[feature] = X[feature].mean()\n",
    "        \n",
    "        return self\n",
    "    \n",
    "    def transform(self, X):\n",
    "        X = X.copy()\n",
    "        for feature in self.variables:\n",
    "            X[feature]= X[feature].fillna(self.imputer_dict[feature])\n",
    "        return X"
   ]
  },
  {
   "cell_type": "markdown",
   "metadata": {},
   "source": [
    "## Feature Selector"
   ]
  },
  {
   "cell_type": "code",
   "execution_count": 5,
   "metadata": {},
   "outputs": [],
   "source": [
    "class FeatureSelector(BaseEstimator, TransformerMixin):\n",
    "    \"\"\"Selects the subset of the features\"\"\"\n",
    "    \n",
    "    def __init__(self,variables=None) -> None:\n",
    "        if not isinstance(variables, list):\n",
    "            self.variables = [variables]\n",
    "        else:\n",
    "            self.variables = variables\n",
    "    \n",
    "    def fit(self, X:pd.DataFrame, y:pd.Series = None) -> 'CategoricalImputer':\n",
    "        \"\"\"Fit statement to accomodate the sklearn pipeline.\"\"\"\n",
    "        \n",
    "        return self\n",
    "    \n",
    "    def transform(self, X:pd.DataFrame) -> pd.DataFrame:\n",
    "        X = X.copy()\n",
    "        \n",
    "        return X[self.variables]"
   ]
  },
  {
   "cell_type": "markdown",
   "metadata": {},
   "source": [
    "## Categorical Encoder"
   ]
  },
  {
   "cell_type": "code",
   "execution_count": 6,
   "metadata": {},
   "outputs": [],
   "source": [
    "class CategoricalEncoder(BaseEstimator, TransformerMixin):\n",
    "    \"\"\"Encodes the categorical features\"\"\"\n",
    "    \n",
    "    def __init__(self, variables = None) -> None:\n",
    "        if not isinstance(variables, list):\n",
    "            self.variables = [variables]\n",
    "        else:\n",
    "            self.variables = variables\n",
    "            \n",
    "    def fit(self, X:pd.DataFrame, y:pd.Series = None) -> 'CategoricalImputer':\n",
    "        \"\"\"Applies label encoding to each feature.\"\"\"\n",
    "        self.le_dict = {feature:LabelEncoder() for feature in self.variables}\n",
    "        for key,le in self.le_dict.items():\n",
    "            le.fit(X[key])\n",
    "            le.classes_ = np.append(le.classes_,'Not Found')\n",
    "        \n",
    "        return self\n",
    "    \n",
    "    def transform(self, X:pd.DataFrame) -> pd.DataFrame:\n",
    "        X = X.copy()\n",
    "        for key, le in self.le_dict.items():\n",
    "            X[key][~X[key].isin(le.classes_)]  = 'Not Found'\n",
    "            X[key] = le.transform(X[key])\n",
    "        \n",
    "        return X"
   ]
  },
  {
   "cell_type": "markdown",
   "metadata": {},
   "source": [
    "## Setting up the features"
   ]
  },
  {
   "cell_type": "code",
   "execution_count": 7,
   "metadata": {},
   "outputs": [],
   "source": [
    "CAT_FEATURES = ['badge','body_type','category','colour', 'fuel','make','model','transmission']\n",
    "NUM_FEATURES = ['cylinders','economy','litres','odometer','old']"
   ]
  },
  {
   "cell_type": "markdown",
   "metadata": {},
   "source": [
    "## Creating the pipeline"
   ]
  },
  {
   "cell_type": "code",
   "execution_count": 8,
   "metadata": {},
   "outputs": [],
   "source": [
    "pipeline = Pipeline([\n",
    "    (\"old_feature\", OldFeature()),\n",
    "    (\"feature_selector\", FeatureSelector(CAT_FEATURES+NUM_FEATURES)),\n",
    "    (\"cat_imputer\", CategoricalImputer(CAT_FEATURES)),\n",
    "    (\"cat_encoder\", CategoricalEncoder(CAT_FEATURES)),\n",
    "    (\"num_imputer\", NumericalImputer(NUM_FEATURES)),\n",
    "    (\"lr\", LinearRegression())\n",
    "])"
   ]
  },
  {
   "cell_type": "markdown",
   "metadata": {},
   "source": [
    "## Reading the data"
   ]
  },
  {
   "cell_type": "code",
   "execution_count": 16,
   "metadata": {
    "scrolled": true
   },
   "outputs": [],
   "source": [
    "df = pd.read_csv(\"car_train.csv\")"
   ]
  },
  {
   "cell_type": "code",
   "execution_count": 17,
   "metadata": {},
   "outputs": [],
   "source": [
    "df = df[df.price.notnull()]"
   ]
  },
  {
   "cell_type": "code",
   "execution_count": 18,
   "metadata": {},
   "outputs": [],
   "source": [
    "y = np.log(df.price)\n",
    "X = df.drop('price',axis=1)"
   ]
  },
  {
   "cell_type": "code",
   "execution_count": 19,
   "metadata": {},
   "outputs": [],
   "source": [
    "X_train,X_test,y_train,y_test = train_test_split(X,y,test_size=0.3,random_state=1234)"
   ]
  },
  {
   "cell_type": "code",
   "execution_count": 20,
   "metadata": {},
   "outputs": [
    {
     "name": "stderr",
     "output_type": "stream",
     "text": [
      "C:\\ProgramData\\Anaconda3\\lib\\site-packages\\ipykernel_launcher.py:22: SettingWithCopyWarning: \n",
      "A value is trying to be set on a copy of a slice from a DataFrame\n",
      "\n",
      "See the caveats in the documentation: http://pandas.pydata.org/pandas-docs/stable/indexing.html#indexing-view-versus-copy\n"
     ]
    },
    {
     "data": {
      "text/plain": [
       "Pipeline(memory=None,\n",
       "     steps=[('old_feature', OldFeature()), ('feature_selector', FeatureSelector(variables=['badge', 'body_type', 'category', 'colour', 'fuel', 'make', 'model', 'transmission', 'cylinders', 'economy', 'litres', 'odometer', 'old'])), ('cat_imputer', CategoricalImputer(variables=['badge', 'body_type', 'cate...), ('lr', LinearRegression(copy_X=True, fit_intercept=True, n_jobs=None,\n",
       "         normalize=False))])"
      ]
     },
     "execution_count": 20,
     "metadata": {},
     "output_type": "execute_result"
    }
   ],
   "source": [
    "pipeline.fit(X_train,y_train)"
   ]
  },
  {
   "cell_type": "code",
   "execution_count": 21,
   "metadata": {},
   "outputs": [
    {
     "name": "stderr",
     "output_type": "stream",
     "text": [
      "C:\\ProgramData\\Anaconda3\\lib\\site-packages\\ipykernel_launcher.py:22: SettingWithCopyWarning: \n",
      "A value is trying to be set on a copy of a slice from a DataFrame\n",
      "\n",
      "See the caveats in the documentation: http://pandas.pydata.org/pandas-docs/stable/indexing.html#indexing-view-versus-copy\n"
     ]
    },
    {
     "data": {
      "text/plain": [
       "0.8606362817574529"
      ]
     },
     "execution_count": 21,
     "metadata": {},
     "output_type": "execute_result"
    }
   ],
   "source": [
    "pipeline.score(X_test, y_test)"
   ]
  },
  {
   "cell_type": "code",
   "execution_count": 22,
   "metadata": {},
   "outputs": [
    {
     "data": {
      "text/plain": [
       "rownum                 0\n",
       "price                  0\n",
       "acquisition_date       0\n",
       "badge               1573\n",
       "body_type              2\n",
       "category            2485\n",
       "colour              1961\n",
       "cylinders           2485\n",
       "economy             3917\n",
       "fuel                  28\n",
       "last_updated           0\n",
       "litres              2485\n",
       "location               0\n",
       "make                   0\n",
       "model                  0\n",
       "odometer            1550\n",
       "transmission           7\n",
       "year                   0\n",
       "dtype: int64"
      ]
     },
     "execution_count": 22,
     "metadata": {},
     "output_type": "execute_result"
    }
   ],
   "source": [
    "df.isna().sum()"
   ]
  },
  {
   "cell_type": "code",
   "execution_count": null,
   "metadata": {},
   "outputs": [],
   "source": []
  }
 ],
 "metadata": {
  "kernelspec": {
   "display_name": "Python 3",
   "language": "python",
   "name": "python3"
  },
  "language_info": {
   "codemirror_mode": {
    "name": "ipython",
    "version": 3
   },
   "file_extension": ".py",
   "mimetype": "text/x-python",
   "name": "python",
   "nbconvert_exporter": "python",
   "pygments_lexer": "ipython3",
   "version": "3.8.5"
  }
 },
 "nbformat": 4,
 "nbformat_minor": 2
}
